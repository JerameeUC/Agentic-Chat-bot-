{
 "cells": [
  {
   "cell_type": "code",
   "execution_count": 1,
   "id": "3c5453da-9714-4410-af12-2727730020bc",
   "metadata": {},
   "outputs": [
    {
     "name": "stdout",
     "output_type": "stream",
     "text": [
      "{'reply': 'Noted. The sentiment appears neutral.', 'sentiment': 'neutral', 'confidence': 0.5}\n"
     ]
    }
   ],
   "source": [
    "from agenticcore.chatbot.services import ChatBot\n",
    "bot = ChatBot()\n",
    "print(bot.reply(\"Testing from notebook\"))\n"
   ]
  },
  {
   "cell_type": "markdown",
   "id": "6d467914-f9b5-43bb-b66e-fc7f1db12b21",
   "metadata": {},
   "source": [
    "# 2) Config: choose backend URL and provider (HF/Azure/etc.)"
   ]
  },
  {
   "cell_type": "code",
   "execution_count": 2,
   "id": "240d2787-aacd-49ec-bfe9-709108e49df0",
   "metadata": {},
   "outputs": [
    {
     "data": {
      "text/plain": [
       "'http://127.0.0.1:8000'"
      ]
     },
     "execution_count": 2,
     "metadata": {},
     "output_type": "execute_result"
    }
   ],
   "source": [
    "import os\n",
    "\n",
    "# Point to your FastAPI server (change if needed)\n",
    "import os\n",
    "\n",
    "# Default backend URL (can be overridden later via the widget)\n",
    "BACKEND_URL = os.environ.get(\"BACKEND_URL\", \"http://127.0.0.1:8000\")\n",
    "\n",
    "# Provider hint (optional; providers_unified auto-detects if keys exist)\n",
    "# Examples:\n",
    "# os.environ[\"AI_PROVIDER\"] = \"hf\"\n",
    "# os.environ[\"HF_API_KEY\"] = \"hf_XXXXXXXX...\"   # if using Hugging Face\n",
    "# os.environ[\"MICROSOFT_AI_SERVICE_ENDPOINT\"] = \"https://<name>.cognitiveservices.azure.com/\"\n",
    "# os.environ[\"MICROSOFT_AI_API_KEY\"] = \"<your-azure-key>\"\n",
    "\n",
    "BACKEND_URL\n"
   ]
  },
  {
   "cell_type": "markdown",
   "id": "bde64f5a-dd29-414e-9116-498ee972e759",
   "metadata": {},
   "source": [
    "# 3) Helper functions (API + Library paths)"
   ]
  },
  {
   "cell_type": "code",
   "execution_count": 3,
   "id": "8d50f328-567b-454f-8090-87c045674338",
   "metadata": {},
   "outputs": [],
   "source": [
    "import os\n",
    "import json\n",
    "import requests\n",
    "from typing import Dict, Any\n",
    "\n",
    "# Default backend URL\n",
    "BACKEND_URL = os.environ.get(\"BACKEND_URL\", \"http://127.0.0.1:8000\")\n",
    "\n",
    "def send_via_api(message: str, url: str = BACKEND_URL) -> Dict[str, Any]:\n",
    "    \"\"\"POST to FastAPI /chatbot/message. Returns dict with reply/sentiment/confidence.\"\"\"\n",
    "    u = url.rstrip(\"/\") + \"/chatbot/message\"\n",
    "    r = requests.post(u, json={\"message\": message}, timeout=20)\n",
    "    r.raise_for_status()\n",
    "    return r.json()\n",
    "\n",
    "def send_via_library(message: str) -> Dict[str, Any]:\n",
    "    \"\"\"Call ChatBot() directly inside this kernel.\"\"\"\n",
    "    from agenticcore.chatbot.services import ChatBot\n",
    "    return ChatBot().reply(message)\n",
    "\n",
    "def health(url: str = BACKEND_URL) -> Dict[str, Any]:\n",
    "    r = requests.get(url.rstrip(\"/\") + \"/health\", timeout=10)\n",
    "    r.raise_for_status()\n",
    "    return r.json()\n"
   ]
  },
  {
   "cell_type": "markdown",
   "id": "f247c509-abd4-44de-9b49-20402d54a296",
   "metadata": {},
   "source": [
    "# 4) Minimal UI (ipywidgets)"
   ]
  },
  {
   "cell_type": "code",
   "execution_count": 4,
   "id": "3f1258d0-5616-4c5a-b19e-e4ffa040e9cb",
   "metadata": {},
   "outputs": [
    {
     "data": {
      "application/vnd.jupyter.widget-view+json": {
       "model_id": "d5e531363757461cbb9225d4afdd5ea9",
       "version_major": 2,
       "version_minor": 0
      },
      "text/plain": [
       "HBox(children=(ToggleButtons(description='Route:', options=(('API', 'api'), ('Library', 'lib')), value='api'),…"
      ]
     },
     "metadata": {},
     "output_type": "display_data"
    },
    {
     "data": {
      "application/vnd.jupyter.widget-view+json": {
       "model_id": "b7e695b92e094e3094099e4f54c5852d",
       "version_major": 2,
       "version_minor": 0
      },
      "text/plain": [
       "HBox(children=(Text(value='', description='You:', layout=Layout(width='60%'), placeholder='Type a message…'), …"
      ]
     },
     "metadata": {},
     "output_type": "display_data"
    },
    {
     "data": {
      "application/vnd.jupyter.widget-view+json": {
       "model_id": "4d1b73dbb842416bb085ba3237e6c69c",
       "version_major": 2,
       "version_minor": 0
      },
      "text/plain": [
       "Output()"
      ]
     },
     "metadata": {},
     "output_type": "display_data"
    },
    {
     "data": {
      "text/html": [
       "\n",
       "<div style=\"margin-top:8px;opacity:.8\">\n",
       "  Tip: API path requires your FastAPI server running at /chatbot/message.\n",
       "  Switch to <b>Library</b> mode for offline tests.\n",
       "</div>\n"
      ],
      "text/plain": [
       "<IPython.core.display.HTML object>"
      ]
     },
     "metadata": {},
     "output_type": "display_data"
    }
   ],
   "source": [
    "import ipywidgets as W\n",
    "from IPython.display import display, HTML, clear_output\n",
    "\n",
    "mode = W.ToggleButtons(\n",
    "    options=[(\"API\", \"api\"), (\"Library\", \"lib\")],\n",
    "    value=\"api\",\n",
    "    description=\"Route:\",\n",
    ")\n",
    "backend = W.Text(value=BACKEND_URL, placeholder=\"http://127.0.0.1:8000\", description=\"Backend:\", layout=W.Layout(width=\"60%\"))\n",
    "save_btn = W.Button(description=\"Save\", button_style=\"info\")\n",
    "msg = W.Text(placeholder=\"Type a message…\", description=\"You:\", layout=W.Layout(width=\"60%\"))\n",
    "send_btn = W.Button(description=\"Send\", button_style=\"primary\")\n",
    "cap_btn = W.Button(description=\"Capabilities\", tooltip=\"Show ChatBot capabilities\")\n",
    "out = W.Output()\n",
    "\n",
    "def on_save(_):\n",
    "    os.environ[\"BACKEND_URL\"] = backend.value.strip()\n",
    "    with out:\n",
    "        print(f\"[config] BACKEND_URL = {os.environ['BACKEND_URL']}\")\n",
    "\n",
    "def on_send(_):\n",
    "    text = msg.value.strip()\n",
    "    if not text:\n",
    "        with out:\n",
    "            print(\"[warn] Please enter some text.\")\n",
    "        return\n",
    "    try:\n",
    "        if mode.value == \"api\":\n",
    "            data = send_via_api(text, backend.value.strip())\n",
    "        else:\n",
    "            data = send_via_library(text)\n",
    "        with out:\n",
    "            print(json.dumps(data, indent=2, ensure_ascii=False))\n",
    "    except Exception as e:\n",
    "        with out:\n",
    "            print(f\"[error] {e}\")\n",
    "\n",
    "def on_caps(_):\n",
    "    try:\n",
    "        # Prefer library capabilities; keeps working even if API is down\n",
    "        from agenticcore.chatbot.services import ChatBot\n",
    "        data = ChatBot().capabilities()\n",
    "        with out:\n",
    "            print(json.dumps({\"capabilities\": data}, indent=2))\n",
    "    except Exception as e:\n",
    "        with out:\n",
    "            print(f\"[error capabilities] {e}\")\n",
    "\n",
    "save_btn.on_click(on_save)\n",
    "send_btn.on_click(on_send)\n",
    "cap_btn.on_click(on_caps)\n",
    "\n",
    "display(W.HBox([mode, backend, save_btn]))\n",
    "display(W.HBox([msg, send_btn, cap_btn]))\n",
    "display(out)\n",
    "\n",
    "# Optional visual hint\n",
    "display(HTML(\"\"\"\n",
    "<div style=\"margin-top:8px;opacity:.8\">\n",
    "  Tip: API path requires your FastAPI server running at /chatbot/message.\n",
    "  Switch to <b>Library</b> mode for offline tests.\n",
    "</div>\n",
    "\"\"\"))\n"
   ]
  },
  {
   "cell_type": "markdown",
   "id": "7aaf5b2a-2a30-42a5-ae77-d851c62feccb",
   "metadata": {},
   "source": [
    "# 5) Batch test cell (multi-prompt, tabular)"
   ]
  },
  {
   "cell_type": "code",
   "execution_count": 5,
   "id": "f1d5da55-08ff-4433-aea9-a3ccde34de5c",
   "metadata": {},
   "outputs": [
    {
     "data": {
      "text/html": [
       "<div>\n",
       "<style scoped>\n",
       "    .dataframe tbody tr th:only-of-type {\n",
       "        vertical-align: middle;\n",
       "    }\n",
       "\n",
       "    .dataframe tbody tr th {\n",
       "        vertical-align: top;\n",
       "    }\n",
       "\n",
       "    .dataframe thead th {\n",
       "        text-align: right;\n",
       "    }\n",
       "</style>\n",
       "<table border=\"1\" class=\"dataframe\">\n",
       "  <thead>\n",
       "    <tr style=\"text-align: right;\">\n",
       "      <th></th>\n",
       "      <th>message</th>\n",
       "      <th>reply</th>\n",
       "      <th>sentiment</th>\n",
       "      <th>confidence</th>\n",
       "    </tr>\n",
       "  </thead>\n",
       "  <tbody>\n",
       "    <tr>\n",
       "      <th>0</th>\n",
       "      <td>I absolutely love this project!</td>\n",
       "      <td>(error) 404 Client Error: Not Found for url: h...</td>\n",
       "      <td>None</td>\n",
       "      <td>None</td>\n",
       "    </tr>\n",
       "    <tr>\n",
       "      <th>1</th>\n",
       "      <td>This is awful and broken.</td>\n",
       "      <td>(error) 404 Client Error: Not Found for url: h...</td>\n",
       "      <td>None</td>\n",
       "      <td>None</td>\n",
       "    </tr>\n",
       "    <tr>\n",
       "      <th>2</th>\n",
       "      <td>Can you list your capabilities?</td>\n",
       "      <td>(error) 404 Client Error: Not Found for url: h...</td>\n",
       "      <td>None</td>\n",
       "      <td>None</td>\n",
       "    </tr>\n",
       "    <tr>\n",
       "      <th>3</th>\n",
       "      <td></td>\n",
       "      <td>(error) 404 Client Error: Not Found for url: h...</td>\n",
       "      <td>None</td>\n",
       "      <td>None</td>\n",
       "    </tr>\n",
       "  </tbody>\n",
       "</table>\n",
       "</div>"
      ],
      "text/plain": [
       "                           message  \\\n",
       "0  I absolutely love this project!   \n",
       "1        This is awful and broken.   \n",
       "2  Can you list your capabilities?   \n",
       "3                                    \n",
       "\n",
       "                                               reply sentiment confidence  \n",
       "0  (error) 404 Client Error: Not Found for url: h...      None       None  \n",
       "1  (error) 404 Client Error: Not Found for url: h...      None       None  \n",
       "2  (error) 404 Client Error: Not Found for url: h...      None       None  \n",
       "3  (error) 404 Client Error: Not Found for url: h...      None       None  "
      ]
     },
     "execution_count": 5,
     "metadata": {},
     "output_type": "execute_result"
    }
   ],
   "source": [
    "import pandas as pd\n",
    "\n",
    "tests = [\n",
    "    \"I absolutely love this project!\",\n",
    "    \"This is awful and broken.\",\n",
    "    \"Can you list your capabilities?\",\n",
    "    \"\",  # malformed/empty\n",
    "]\n",
    "\n",
    "rows = []\n",
    "for t in tests:\n",
    "    try:\n",
    "        data = send_via_api(t, backend.value.strip()) if mode.value == \"api\" else send_via_library(t)\n",
    "        rows.append({\"message\": t, **data})\n",
    "    except Exception as e:\n",
    "        rows.append({\"message\": t, \"reply\": f\"(error) {e}\", \"sentiment\": None, \"confidence\": None})\n",
    "\n",
    "df = pd.DataFrame(rows)\n",
    "df\n"
   ]
  },
  {
   "cell_type": "markdown",
   "id": "bc6096a4-ea15-4908-9edf-e80d2c89c4a6",
   "metadata": {},
   "source": [
    "# 6) Health check + quick assertions"
   ]
  },
  {
   "cell_type": "code",
   "execution_count": 11,
   "id": "a3b9632b-a7eb-4c4b-94ed-add3bd5a88c6",
   "metadata": {},
   "outputs": [
    {
     "name": "stdout",
     "output_type": "stream",
     "text": [
      "Health: {'ok': True, 'version': '0.3.0', 'time': 1757798428}\n",
      "Library OK: {'reply': 'Noted. The sentiment appears neutral.', 'sentiment': 'neutral', 'confidence': 0.5}\n",
      "API OK: {'reply': 'Noted. The sentiment appears neutral.', 'sentiment': 'neutral', 'confidence': 0.5, 'thread': None}\n"
     ]
    }
   ],
   "source": [
    "try:\n",
    "    print(\"Health:\", health(backend.value.strip()))\n",
    "except Exception as e:\n",
    "    print(\"Health check failed:\", e)\n",
    "\n",
    "# Simple acceptance checks\n",
    "sample = send_via_library(\"hello\")\n",
    "assert all(k in sample for k in (\"reply\", \"sentiment\", \"confidence\"))\n",
    "print(\"Library OK:\", sample)\n",
    "\n",
    "sample_api = send_via_api(\"hello from api\", backend.value.strip())\n",
    "assert all(k in sample_api for k in (\"reply\", \"sentiment\", \"confidence\"))\n",
    "print(\"API OK:\", sample_api)\n"
   ]
  },
  {
   "cell_type": "code",
   "execution_count": null,
   "id": "21b5e668-3b60-4d3d-bef2-fae238ebf91a",
   "metadata": {},
   "outputs": [],
   "source": []
  },
  {
   "cell_type": "code",
   "execution_count": 12,
   "id": "1fd68863-30cd-4790-a77d-e637acfb9fd0",
   "metadata": {},
   "outputs": [
    {
     "name": "stdout",
     "output_type": "stream",
     "text": [
      "[\n",
      "  \"/health\",\n",
      "  \"/status\",\n",
      "  \"/chatbot/message\",\n",
      "  \"/ui\"\n",
      "]\n"
     ]
    }
   ],
   "source": [
    "import requests, os, json\n",
    "BACKEND_URL = os.environ.get(\"BACKEND_URL\", \"http://127.0.0.1:8000\")\n",
    "routes = requests.get(BACKEND_URL.rstrip(\"/\") + \"/openapi.json\", timeout=10).json()[\"paths\"]\n",
    "print(json.dumps(list(routes.keys())[:20], indent=2))\n"
   ]
  },
  {
   "cell_type": "code",
   "execution_count": 13,
   "id": "0595d521-f8da-46ed-aafa-bc84fd519c08",
   "metadata": {},
   "outputs": [
    {
     "data": {
      "text/plain": [
       "{'reply': 'Noted. The sentiment appears neutral.',\n",
       " 'sentiment': 'neutral',\n",
       " 'confidence': 0.5,\n",
       " 'thread': None}"
      ]
     },
     "execution_count": 13,
     "metadata": {},
     "output_type": "execute_result"
    }
   ],
   "source": [
    "send_via_api(\"hello from api\", BACKEND_URL.strip())\n"
   ]
  },
  {
   "cell_type": "code",
   "execution_count": 14,
   "id": "7e44f300-e314-466b-9a9e-b2817f6b3aaa",
   "metadata": {},
   "outputs": [
    {
     "name": "stdout",
     "output_type": "stream",
     "text": [
      "Health: {'ok': True, 'version': '0.3.0', 'time': 1757798440}\n",
      "Library OK: {'reply': 'Noted. The sentiment appears neutral.', 'sentiment': 'neutral', 'confidence': 0.5}\n",
      "API OK: {'reply': 'Noted. The sentiment appears neutral.', 'sentiment': 'neutral', 'confidence': 0.5, 'thread': None}\n"
     ]
    }
   ],
   "source": [
    "print(\"Health:\", health(BACKEND_URL))\n",
    "sample = send_via_library(\"hello\")\n",
    "print(\"Library OK:\", sample)\n",
    "\n",
    "sample_api = send_via_api(\"hello from api\", BACKEND_URL)\n",
    "print(\"API OK:\", sample_api)\n"
   ]
  },
  {
   "cell_type": "code",
   "execution_count": 16,
   "id": "190a5e9b-a0b6-47a9-8201-51788715ac12",
   "metadata": {},
   "outputs": [
    {
     "ename": "SyntaxError",
     "evalue": "invalid syntax (3247471142.py, line 2)",
     "output_type": "error",
     "traceback": [
      "\u001b[1;36m  Cell \u001b[1;32mIn[16], line 2\u001b[1;36m\u001b[0m\n\u001b[1;33m    uvicorn backend.app.main:app --reload --port 8077 --app-dir .\u001b[0m\n\u001b[1;37m            ^\u001b[0m\n\u001b[1;31mSyntaxError\u001b[0m\u001b[1;31m:\u001b[0m invalid syntax\n"
     ]
    }
   ],
   "source": [
    "# Pick a clean port to avoid collisions (e.g., 8077)\n",
    "uvicorn backend.app.main:app --reload --port 8077 --app-dir .\n"
   ]
  },
  {
   "cell_type": "code",
   "execution_count": null,
   "id": "efef3da8-8f93-483c-a623-ea8e48c604c8",
   "metadata": {},
   "outputs": [],
   "source": []
  },
  {
   "cell_type": "code",
   "execution_count": null,
   "id": "99187776-e8c6-4c4c-80d6-6d87c299c96b",
   "metadata": {},
   "outputs": [],
   "source": []
  },
  {
   "cell_type": "code",
   "execution_count": null,
   "id": "c32a0f8c-a533-4bd0-abd3-88b5fd993305",
   "metadata": {},
   "outputs": [],
   "source": []
  },
  {
   "cell_type": "code",
   "execution_count": null,
   "id": "2e8a5292-7458-474f-b599-6b2192c23b37",
   "metadata": {},
   "outputs": [],
   "source": []
  }
 ],
 "metadata": {
  "kernelspec": {
   "display_name": "Python (stock_ai)",
   "language": "python",
   "name": "stock_ai"
  },
  "language_info": {
   "codemirror_mode": {
    "name": "ipython",
    "version": 3
   },
   "file_extension": ".py",
   "mimetype": "text/x-python",
   "name": "python",
   "nbconvert_exporter": "python",
   "pygments_lexer": "ipython3",
   "version": "3.9.20"
  }
 },
 "nbformat": 4,
 "nbformat_minor": 5
}
