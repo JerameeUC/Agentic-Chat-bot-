{
 "cells": [
  {
   "cell_type": "markdown",
   "id": "0c68164d-7eea-473c-9722-8bc92564fa6f",
   "metadata": {},
   "source": [
    "# **Jupyter notebook front-end (drop-in cells)**\n"
   ]
  },
  {
   "cell_type": "markdown",
   "id": "298d485d-5391-47f5-9844-b5f5945324fd",
   "metadata": {},
   "source": [
    "**Smoke tests (copy/paste)**\n",
    "\n",
    "**Run these whenever something feels off.**\n",
    "\n",
    "**A. Confirm the router is mounted**"
   ]
  },
  {
   "cell_type": "code",
   "execution_count": 20,
   "id": "bd2a2e6d-8b6e-4630-9aeb-d6c0cbd1b78d",
   "metadata": {
    "jupyter": {
     "source_hidden": true
    }
   },
   "outputs": [
    {
     "name": "stdout",
     "output_type": "stream",
     "text": [
      "[ui] serving SPA from: C:\\Users\\User\\PortaeOS-skeleton\\packages\\shell\\dist\n"
     ]
    },
    {
     "data": {
      "text/plain": [
       "[('/openapi.json', {'GET', 'HEAD'}),\n",
       " ('/docs', {'GET', 'HEAD'}),\n",
       " ('/docs/oauth2-redirect', {'GET', 'HEAD'}),\n",
       " ('/redoc', {'GET', 'HEAD'}),\n",
       " ('/health', {'GET'}),\n",
       " ('/status', {'GET'}),\n",
       " ('/services', {'GET'}),\n",
       " ('/services/{name}/start', {'POST'}),\n",
       " ('/services/{name}/stop', {'POST'}),\n",
       " ('/services/{name}/restart', {'POST'}),\n",
       " ('/logs/{service}/tail', {'GET'}),\n",
       " ('/logs/bundle.zip', {'GET'}),\n",
       " ('/favorites', {'GET'}),\n",
       " ('/macros/open', {'POST'}),\n",
       " ('/license/validate', {'POST'}),\n",
       " ('/agents/run', {'POST'}),\n",
       " ('/terminals', None),\n",
       " ('/storefront/postman-collection', {'GET'}),\n",
       " ('/office/status', {'GET'}),\n",
       " ('/office/run-macro', {'POST'}),\n",
       " ('/ui', None),\n",
       " ('/', {'GET'}),\n",
       " ('/ui/{_:path}', {'GET'}),\n",
       " ('/ai/ping', {'GET'}),\n",
       " ('/ai/health', {'GET'}),\n",
       " ('/ai/agents/dispatch', {'POST'}),\n",
       " ('/ai/ingest', {'POST'}),\n",
       " ('/ai/search', {'GET'}),\n",
       " ('/ai/chat', {'POST'}),\n",
       " ('/recode/health', {'GET'}),\n",
       " ('/terminals/{tid}', None),\n",
       " ('/terminals/spawn/{tid}', {'GET'}),\n",
       " ('/terminals/kill/{tid}', {'GET'}),\n",
       " ('/terminals/{tid}/resize', {'POST'})]"
      ]
     },
     "execution_count": 20,
     "metadata": {},
     "output_type": "execute_result"
    }
   ],
   "source": [
    "import os\n",
    "os.chdir(r\"C:\\Users\\User\\PortaeOS-skeleton\\packages\\agenticcore\")  # <-- adjust to your repo root\n",
    "\n",
    "# Python one-liner in the same env where the server runs\n",
    "import sys; sys.path.insert(0,'.')\n",
    "import backend.app.main as m\n",
    "[(getattr(r,'path',None), getattr(r,'methods',None)) for r in m.app.routes]\n",
    "\n",
    "# Expect to see ('/chatbot/message', {'POST'}) in the list\n"
   ]
  },
  {
   "cell_type": "markdown",
   "id": "2705c51f-c966-4183-a2c6-a54534e035ae",
   "metadata": {},
   "source": [
    "(You already did a version of this and saw /chatbot/message appear — perfect.)\n",
    "\n",
    "**B. Health → Chat via API**"
   ]
  },
  {
   "cell_type": "code",
   "execution_count": 6,
   "id": "0e622f18-d769-4003-a915-41511c5240e1",
   "metadata": {},
   "outputs": [
    {
     "name": "stdout",
     "output_type": "stream",
     "text": [
      "Health: {'ok': True, 'version': '0.3.0', 'time': 1757812216}\n",
      "Reply: 200 {'reply': 'Noted. The sentiment appears neutral.', 'sentiment': 'neutral', 'confidence': 0.5, 'thread': None}\n"
     ]
    }
   ],
   "source": [
    "import requests, json, os\n",
    "BASE = os.environ.get(\"BACKEND_URL\",\"http://127.0.0.1:8000\").rstrip(\"/\")\n",
    "print(\"Health:\", requests.get(BASE+\"/health\").json())\n",
    "r = requests.post(BASE+\"/chatbot/message\", json={\"message\":\"hello via api\"})\n",
    "print(\"Reply:\", r.status_code, r.json())\n"
   ]
  },
  {
   "cell_type": "markdown",
   "id": "02aeef6d-dd70-476d-83a2-48e7732eba78",
   "metadata": {},
   "source": [
    "**C. Library path (no server required)**"
   ]
  },
  {
   "cell_type": "code",
   "execution_count": 7,
   "id": "11a88e5d-9ae6-4d44-a1b4-3c89716dba28",
   "metadata": {},
   "outputs": [
    {
     "name": "stdout",
     "output_type": "stream",
     "text": [
      "{'reply': 'Noted. The sentiment appears neutral.', 'sentiment': 'neutral', 'confidence': 0.5}\n"
     ]
    }
   ],
   "source": [
    "from agenticcore.chatbot.services import ChatBot\n",
    "print(ChatBot().reply(\"hello via library\"))\n"
   ]
  },
  {
   "cell_type": "markdown",
   "id": "89fd0fdf-c799-4e4d-8c63-c430f9d8f3b3",
   "metadata": {},
   "source": [
    "# **Minimal notebook “front-end” cells (drop into top of your .ipynb)**\n",
    "\n",
    "These mirror your working UI and give you pass/fail signals inside the notebook."
   ]
  },
  {
   "cell_type": "code",
   "execution_count": 8,
   "id": "65acc3b5-ec39-4b53-9c1e-be6eee9928ac",
   "metadata": {},
   "outputs": [
    {
     "name": "stdout",
     "output_type": "stream",
     "text": [
      "BACKEND_URL = http://127.0.0.1:8000\n",
      "Health: {'ok': True, 'version': '0.3.0', 'time': 1757812221}\n"
     ]
    }
   ],
   "source": [
    "# Cell 1: config + helpers\n",
    "import os, json, requests\n",
    "BACKEND_URL = os.environ.get(\"BACKEND_URL\", \"http://127.0.0.1:8000\").rstrip(\"/\")\n",
    "\n",
    "def health(url: str = BACKEND_URL): \n",
    "    r = requests.get(url + \"/health\", timeout=10); r.raise_for_status(); return r.json()\n",
    "\n",
    "def send_via_api(message: str, url: str = BACKEND_URL):\n",
    "    r = requests.post(url + \"/chatbot/message\", json={\"message\": message}, timeout=20)\n",
    "    r.raise_for_status(); return r.json()\n",
    "\n",
    "def send_via_library(message: str):\n",
    "    from agenticcore.chatbot.services import ChatBot\n",
    "    return ChatBot().reply(message)\n",
    "\n",
    "print(\"BACKEND_URL =\", BACKEND_URL)\n",
    "print(\"Health:\", health())\n"
   ]
  },
  {
   "cell_type": "code",
   "execution_count": 9,
   "id": "b00f82ca-faea-43b3-b35a-03fdc0d1c2b3",
   "metadata": {},
   "outputs": [
    {
     "name": "stdout",
     "output_type": "stream",
     "text": [
      "Library OK: {'reply': 'Noted. The sentiment appears neutral.', 'sentiment': 'neutral', 'confidence': 0.5}\n",
      "API OK: {'reply': 'Noted. The sentiment appears neutral.', 'sentiment': 'neutral', 'confidence': 0.5, 'thread': None}\n"
     ]
    }
   ],
   "source": [
    "# Cell 2: quick acceptance checks\n",
    "lib = send_via_library(\"hello\")\n",
    "assert all(k in lib for k in (\"reply\",\"sentiment\",\"confidence\"))\n",
    "print(\"Library OK:\", lib)\n",
    "\n",
    "api = send_via_api(\"hello from api\")\n",
    "assert all(k in api for k in (\"reply\",\"sentiment\",\"confidence\"))\n",
    "print(\"API OK:\", api)\n"
   ]
  },
  {
   "cell_type": "markdown",
   "id": "7b4dcea8-0a06-4734-8780-f4180b4ceec8",
   "metadata": {},
   "source": [
    "**Cell 1 — Config & helpers**"
   ]
  },
  {
   "cell_type": "code",
   "execution_count": 10,
   "id": "93d23e33-c19f-423f-9e89-b98295637075",
   "metadata": {},
   "outputs": [
    {
     "name": "stdout",
     "output_type": "stream",
     "text": [
      "BACKEND_URL = http://127.0.0.1:8000\n"
     ]
    }
   ],
   "source": [
    "# Notebook Config\n",
    "import os, json, requests\n",
    "from typing import Dict, Any\n",
    "\n",
    "BACKEND_URL = os.environ.get(\"BACKEND_URL\", \"http://127.0.0.1:8000\").rstrip(\"/\")\n",
    "\n",
    "def health(url: str = BACKEND_URL) -> Dict[str, Any]:\n",
    "    \"\"\"GET /health to verify server is up.\"\"\"\n",
    "    r = requests.get(url + \"/health\", timeout=10)\n",
    "    r.raise_for_status()\n",
    "    return r.json()\n",
    "\n",
    "def send_via_api(message: str, url: str = BACKEND_URL) -> Dict[str, Any]:\n",
    "    \"\"\"POST to FastAPI /chatbot/message. Returns reply/sentiment/confidence.\"\"\"\n",
    "    r = requests.post(url + \"/chatbot/message\", json={\"message\": message}, timeout=20)\n",
    "    r.raise_for_status()\n",
    "    return r.json()\n",
    "\n",
    "def send_via_library(message: str) -> Dict[str, Any]:\n",
    "    \"\"\"Call ChatBot() directly (no server needed).\"\"\"\n",
    "    from agenticcore.chatbot.services import ChatBot\n",
    "    return ChatBot().reply(message)\n",
    "\n",
    "print(\"BACKEND_URL =\", BACKEND_URL)\n"
   ]
  },
  {
   "cell_type": "markdown",
   "id": "3239843e-75b6-4bb7-8e6c-e20eb160e0a6",
   "metadata": {},
   "source": [
    "**Cell 2 — Widget UI (switch API / Library)**"
   ]
  },
  {
   "cell_type": "code",
   "execution_count": 11,
   "id": "f688b856-cb39-45ae-b5d3-ff20564893c0",
   "metadata": {},
   "outputs": [
    {
     "data": {
      "application/vnd.jupyter.widget-view+json": {
       "model_id": "160ab5a3d8a54eccbaf75eec203babae",
       "version_major": 2,
       "version_minor": 0
      },
      "text/plain": [
       "HBox(children=(ToggleButtons(description='Route:', options=(('API', 'api'), ('Library', 'lib')), value='api'),…"
      ]
     },
     "metadata": {},
     "output_type": "display_data"
    },
    {
     "data": {
      "application/vnd.jupyter.widget-view+json": {
       "model_id": "70a92ad1d523445781c212d302c44556",
       "version_major": 2,
       "version_minor": 0
      },
      "text/plain": [
       "HBox(children=(Text(value='', description='You:', layout=Layout(width='60%'), placeholder='Type a message…'), …"
      ]
     },
     "metadata": {},
     "output_type": "display_data"
    },
    {
     "data": {
      "application/vnd.jupyter.widget-view+json": {
       "model_id": "bc59056493eb4380a6559c0d88f373cb",
       "version_major": 2,
       "version_minor": 0
      },
      "text/plain": [
       "Output()"
      ]
     },
     "metadata": {},
     "output_type": "display_data"
    },
    {
     "data": {
      "text/html": [
       "<div style=\"margin-top:8px;opacity:.8\">Tip: ensure FastAPI exposes <code>/chatbot/message</code>. Switch to Library for offline tests.</div>"
      ],
      "text/plain": [
       "<IPython.core.display.HTML object>"
      ]
     },
     "metadata": {},
     "output_type": "display_data"
    }
   ],
   "source": [
    "import ipywidgets as W\n",
    "from IPython.display import display, HTML\n",
    "\n",
    "mode = W.ToggleButtons(options=[(\"API\", \"api\"), (\"Library\", \"lib\")], value=\"api\", description=\"Route:\")\n",
    "backend = W.Text(value=BACKEND_URL, description=\"Backend:\", layout=W.Layout(width=\"60%\"))\n",
    "save_btn = W.Button(description=\"Save\", button_style=\"info\")\n",
    "msg = W.Text(placeholder=\"Type a message…\", description=\"You:\", layout=W.Layout(width=\"60%\"))\n",
    "send_btn = W.Button(description=\"Send\", button_style=\"primary\")\n",
    "cap_btn = W.Button(description=\"Capabilities\")\n",
    "out = W.Output()\n",
    "\n",
    "def on_save(_):\n",
    "    os.environ[\"BACKEND_URL\"] = backend.value.strip().rstrip(\"/\")\n",
    "    with out: print(\"[config] BACKEND_URL =\", os.environ[\"BACKEND_URL\"])\n",
    "\n",
    "def on_send(_):\n",
    "    text = msg.value.strip()\n",
    "    if not text:\n",
    "        with out: print(\"[warn] Please enter some text.\")\n",
    "        return\n",
    "    try:\n",
    "        data = send_via_api(text, backend.value.strip()) if mode.value == \"api\" else send_via_library(text)\n",
    "        with out: print(json.dumps(data, indent=2, ensure_ascii=False))\n",
    "    except Exception as e:\n",
    "        with out: print(f\"[error] {e}\")\n",
    "\n",
    "def on_caps(_):\n",
    "    try:\n",
    "        from agenticcore.chatbot.services import ChatBot\n",
    "        with out: print(json.dumps({\"capabilities\": ChatBot().capabilities()}, indent=2))\n",
    "    except Exception as e:\n",
    "        with out: print(f\"[error capabilities] {e}\")\n",
    "\n",
    "save_btn.on_click(on_save); send_btn.on_click(on_send); cap_btn.on_click(on_caps)\n",
    "\n",
    "display(W.HBox([mode, backend, save_btn]))\n",
    "display(W.HBox([msg, send_btn, cap_btn]))\n",
    "display(out)\n",
    "display(HTML('<div style=\"margin-top:8px;opacity:.8\">Tip: ensure FastAPI exposes <code>/chatbot/message</code>. Switch to Library for offline tests.</div>'))\n"
   ]
  },
  {
   "cell_type": "markdown",
   "id": "85999cc1-26e2-497d-95c1-ffb8c9210240",
   "metadata": {},
   "source": [
    "**Cell 3 — Smoke checks (acceptance)**"
   ]
  },
  {
   "cell_type": "code",
   "execution_count": 12,
   "id": "3fc28db0-5aa6-4813-9663-f19d6937e39b",
   "metadata": {},
   "outputs": [
    {
     "name": "stdout",
     "output_type": "stream",
     "text": [
      "Health: {'ok': True, 'version': '0.3.0', 'time': 1757812228}\n",
      "Library OK: {'reply': 'Noted. The sentiment appears neutral.', 'sentiment': 'neutral', 'confidence': 0.5}\n",
      "API OK: {'reply': 'Noted. The sentiment appears neutral.', 'sentiment': 'neutral', 'confidence': 0.5, 'thread': None}\n"
     ]
    }
   ],
   "source": [
    "# Backend health (if running)\n",
    "try:\n",
    "    print(\"Health:\", health(backend.value.strip()))\n",
    "except Exception as e:\n",
    "    print(\"Health check failed:\", e)\n",
    "\n",
    "# Library path always available\n",
    "sample = send_via_library(\"hello\")\n",
    "assert all(k in sample for k in (\"reply\", \"sentiment\", \"confidence\"))\n",
    "print(\"Library OK:\", sample)\n",
    "\n",
    "# API path (requires uvicorn backend running)\n",
    "try:\n",
    "    sample_api = send_via_api(\"hello from api\", backend.value.strip())\n",
    "    assert all(k in sample_api for k in (\"reply\", \"sentiment\", \"confidence\"))\n",
    "    print(\"API OK:\", sample_api)\n",
    "except Exception as e:\n",
    "    print(\"API test failed (start uvicorn?):\", e)\n"
   ]
  },
  {
   "cell_type": "markdown",
   "id": "caeb5108-f0fb-4d5e-ad2a-56011904e397",
   "metadata": {},
   "source": [
    "**Cell 4 — Minimal report cell (optional screenshots prompt)**"
   ]
  },
  {
   "cell_type": "code",
   "execution_count": 13,
   "id": "8a3d85fc-6c2d-4c99-a286-4e9af2085d64",
   "metadata": {},
   "outputs": [
    {
     "data": {
      "text/markdown": [
       "\n",
       "### What to capture for the report\n",
       "- Screenshot of **/health** and a successful **/chatbot/message** call.\n",
       "- Notebook output using **API** mode and **Library** mode.\n",
       "- Short note: environment variables used (e.g., `MICROSOFT_AI_*`, `AI_PROVIDER`, `HF_API_KEY`).\n",
       "- Brief discussion of any errors and fixes (e.g., route mounting, ports).\n"
      ],
      "text/plain": [
       "<IPython.core.display.Markdown object>"
      ]
     },
     "execution_count": 13,
     "metadata": {},
     "output_type": "execute_result"
    }
   ],
   "source": [
    "from IPython.display import Markdown\n",
    "Markdown(\"\"\"\n",
    "### What to capture for the report\n",
    "- Screenshot of **/health** and a successful **/chatbot/message** call.\n",
    "- Notebook output using **API** mode and **Library** mode.\n",
    "- Short note: environment variables used (e.g., `MICROSOFT_AI_*`, `AI_PROVIDER`, `HF_API_KEY`).\n",
    "- Brief discussion of any errors and fixes (e.g., route mounting, ports).\n",
    "\"\"\")\n"
   ]
  },
  {
   "cell_type": "code",
   "execution_count": null,
   "id": "0fcc4e15-82c2-49e8-86c5-86b80a5b691a",
   "metadata": {},
   "outputs": [],
   "source": []
  },
  {
   "cell_type": "code",
   "execution_count": null,
   "id": "c3e950a2-af8a-4a69-802b-7b2f81b9245c",
   "metadata": {},
   "outputs": [],
   "source": []
  },
  {
   "cell_type": "code",
   "execution_count": null,
   "id": "ccb42ea3-2d61-4451-9ee8-f8e0755ff89c",
   "metadata": {},
   "outputs": [],
   "source": []
  }
 ],
 "metadata": {
  "kernelspec": {
   "display_name": "Python (stock_ai)",
   "language": "python",
   "name": "stock_ai"
  },
  "language_info": {
   "codemirror_mode": {
    "name": "ipython",
    "version": 3
   },
   "file_extension": ".py",
   "mimetype": "text/x-python",
   "name": "python",
   "nbconvert_exporter": "python",
   "pygments_lexer": "ipython3",
   "version": "3.9.20"
  }
 },
 "nbformat": 4,
 "nbformat_minor": 5
}
